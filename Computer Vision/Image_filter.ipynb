{
 "cells": [
  {
   "cell_type": "code",
   "execution_count": 1,
   "id": "6332d4b4-1d38-4ce6-a869-cfae83935535",
   "metadata": {},
   "outputs": [
    {
     "name": "stdout",
     "output_type": "stream",
     "text": [
      "Making Grayscale.... Look for an image in a separate window\n",
      "It might take a minute.... Look for an image in a separate window\n",
      "Press any key to close the image windows.\n"
     ]
    }
   ],
   "source": [
    "# SABRINA DINI AI PERIOD 5 \n",
    "\n",
    "import cv2\n",
    "import numpy as np\n",
    "import requests\n",
    "\n",
    "# Getting the image from the internet\n",
    "'''IMAGE_URL = \"https://codehs.com/uploads/e07cd01271cac589cc9ef1bf012c6a0c\"\n",
    "IMAGE_WIDTH = 280\n",
    "IMAGE_HEIGHT = 200\n",
    "\n",
    "# Load the image from URL\n",
    "response = requests.get(IMAGE_URL)\n",
    "image_array = np.asarray(bytearray(response.content), dtype=np.uint8)\n",
    "image = cv2.imdecode(image_array, cv2.IMREAD_COLOR)'''\n",
    "\n",
    "#load the image locally - use any image file downloaded from the internet or a picture that you have saved on your computer\n",
    "\n",
    "IMAGE_WIDTH = 360\n",
    "IMAGE_HEIGHT = 360\n",
    "\n",
    "image = cv2.imread(\"emoji.jpg\")\n",
    "\n",
    "# Resize the image\n",
    "image = cv2.resize(image, (IMAGE_WIDTH, IMAGE_HEIGHT))\n",
    "\n",
    "# Function to apply a black and white filter pixel by pixel\n",
    "def black_and_white(image):\n",
    "    height, width, _ = image.shape\n",
    "    for x in range(width):\n",
    "        for y in range(height):\n",
    "            pixel = image[y, x]  # OpenCV uses (row, col) = (y, x)\n",
    "            avg = (int(pixel[0]) + int(pixel[1]) + int(pixel[2])) // 3\n",
    "            image[y, x] = (avg, avg, avg)  # Set R, G, and B to avg\n",
    "    return image\n",
    "\n",
    "# Convert image to grayscale manually\n",
    "print(\"Making Grayscale.... Look for an image in a separate window\")\n",
    "print(\"It might take a minute.... Look for an image in a separate window\")\n",
    "gray_image = black_and_white(image.copy())\n",
    "\n",
    "# Display images\n",
    "cv2.imshow(\"Original Image\", image)\n",
    "cv2.imshow(\"Grayscale Image\", gray_image)\n",
    "\n",
    "# Wait for a key press and close windows\n",
    "print(\"Press any key to close the image windows.\")\n",
    "cv2.waitKey(0)\n",
    "cv2.destroyAllWindows()"
   ]
  },
  {
   "cell_type": "markdown",
   "id": "9017da7c-51c4-4656-b467-5e91dba0b9c2",
   "metadata": {},
   "source": [
    "## Create an Inverted Filter\n",
    "Write the function <b>invert_color(image)</b> that takes an image and inverts each pixel color (changes the value of each channel to the opposite saturation where light tones appear dark, and dark tones appear light) and displays the modified image. \n",
    "Copy the code from the above example to apply the function to an image and display the before and afer picture."
   ]
  },
  {
   "cell_type": "code",
   "execution_count": 6,
   "id": "5ca41280-acd3-40a4-9165-a35b4fc426a7",
   "metadata": {},
   "outputs": [
    {
     "name": "stdout",
     "output_type": "stream",
     "text": [
      "Making Inverted.... Look for an image in a separate window\n",
      "It might take a minute.... Look for an image in a separate window\n",
      "Press any key to close the image windows.\n"
     ]
    }
   ],
   "source": [
    "#load the image locally - use any image file downloaded from the internet or a picture that you have saved on your computer\n",
    "\n",
    "IMAGE_WIDTH = 360\n",
    "IMAGE_HEIGHT = 360\n",
    "\n",
    "image = cv2.imread(\"emoji.jpg\")\n",
    "\n",
    "# Resize the image\n",
    "image = cv2.resize(image, (IMAGE_WIDTH, IMAGE_HEIGHT))\n",
    "\n",
    "# Function to apply a black and white filter pixel by pixel\n",
    "def invert_color(image):\n",
    "    height, width, _ = image.shape\n",
    "    for x in range(width):\n",
    "        for y in range(height):\n",
    "            pixel = image[y, x]  # OpenCV uses (row, col) = (y, x)\n",
    "            image[y, x] = (255-pixel[0], 255-pixel[1], 255-pixel[2])  # Set R, G, and B to avg\n",
    "    return image\n",
    "\n",
    "# Convert image to inverted manually\n",
    "print(\"Making Inverted.... Look for an image in a separate window\")\n",
    "print(\"It might take a minute.... Look for an image in a separate window\")\n",
    "inverted_image = invert_color(image.copy())\n",
    "\n",
    "cv2.imshow(\"Original Image\", image)\n",
    "cv2.imshow(\"Inverted Image\", inverted_image)\n",
    "\n",
    "# Wait for a key press and close windows\n",
    "print(\"Press any key to close the image windows.\")\n",
    "cv2.waitKey(0)\n",
    "cv2.destroyAllWindows()"
   ]
  }
 ],
 "metadata": {
  "kernelspec": {
   "display_name": "Python 3 (ipykernel)",
   "language": "python",
   "name": "python3"
  },
  "language_info": {
   "codemirror_mode": {
    "name": "ipython",
    "version": 3
   },
   "file_extension": ".py",
   "mimetype": "text/x-python",
   "name": "python",
   "nbconvert_exporter": "python",
   "pygments_lexer": "ipython3",
   "version": "3.9.21"
  }
 },
 "nbformat": 4,
 "nbformat_minor": 5
}
