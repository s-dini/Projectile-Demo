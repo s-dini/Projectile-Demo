{
 "cells": [
  {
   "cell_type": "raw",
   "id": "53b89726-1b5f-4bf8-9843-6ecb13fb43dc",
   "metadata": {},
   "source": [
    "SABRINA DINI AI PERIOD 5\n",
    "\n",
    "Example code:\n",
    "\n",
    "\n",
    "prints the data type of each columns\n",
    "\n",
    "\n",
    "df.dtypes\n",
    "\n",
    "\n",
    "prints the number of rows and columns as (rows, columns)\n",
    "\n",
    "df.shape\n",
    "\n",
    "\n",
    "prints statistics about each column rounding to one decimal\n",
    "\n",
    "round((df.describe()), 1)\n",
    "\n",
    "\n",
    "prints the first five rows\n",
    "\n",
    "df.head()\n",
    "\n",
    "\n",
    "prints the last three rows\n",
    "\n",
    "df.tail(3)\n",
    "\n",
    "\n",
    "print rows three to five\n",
    "\n",
    "df[2:5]"
   ]
  },
  {
   "cell_type": "code",
   "execution_count": 1,
   "id": "ee3f590a-a172-41eb-a992-8f204c3d6dd4",
   "metadata": {},
   "outputs": [],
   "source": [
    "# import pandas\n",
    "# pandas is used to work with data\n",
    "import pandas as pd"
   ]
  },
  {
   "cell_type": "code",
   "execution_count": null,
   "id": "75752227-4bce-43eb-ad33-14c70316a6db",
   "metadata": {},
   "outputs": [],
   "source": [
    "# accessing the CSV file\n",
    "# variable_name = pd.read_csv(\"location/file.csv\")\n"
   ]
  },
  {
   "cell_type": "code",
   "execution_count": null,
   "id": "4c555251-585e-4f22-8b65-3f4afc188727",
   "metadata": {},
   "outputs": [],
   "source": [
    "# print data types of each column\n",
    "# print(df.dtypes)"
   ]
  },
  {
   "cell_type": "code",
   "execution_count": null,
   "id": "9659453c-dfb0-4ec1-aaa0-959b961ec182",
   "metadata": {},
   "outputs": [],
   "source": [
    "# print number of rows and columns\n",
    "# print(len(df.columns)) \n",
    "# print(len(df)) \n"
   ]
  },
  {
   "cell_type": "code",
   "execution_count": null,
   "id": "5f69cd94-4ae9-412b-9c56-d07eccc60f9c",
   "metadata": {},
   "outputs": [],
   "source": [
    "# print the mean and other statistics about all the columns\n",
    "# print(df.describe())"
   ]
  },
  {
   "cell_type": "code",
   "execution_count": null,
   "id": "c33fb028-6098-4ec1-a0b8-4c279f050cb2",
   "metadata": {},
   "outputs": [],
   "source": [
    "# print first five rows\n",
    "# print(df.head())"
   ]
  },
  {
   "cell_type": "code",
   "execution_count": null,
   "id": "adc6426a-a957-496a-8c37-4ddc7c456655",
   "metadata": {},
   "outputs": [],
   "source": [
    "# print last five rows\n",
    "# print(df.tail())"
   ]
  },
  {
   "cell_type": "code",
   "execution_count": null,
   "id": "d9184f9b-f65f-4e1c-a96b-0357e1555a97",
   "metadata": {},
   "outputs": [],
   "source": [
    "# print the last eight rows\n",
    "# print(df.tail(8))"
   ]
  },
  {
   "cell_type": "code",
   "execution_count": null,
   "id": "87429793-337d-476c-945a-a005e4bf75b0",
   "metadata": {},
   "outputs": [],
   "source": [
    "# print the first four rows\n",
    "# print(df.head(4))"
   ]
  }
 ],
 "metadata": {
  "kernelspec": {
   "display_name": "Python 3 (ipykernel)",
   "language": "python",
   "name": "python3"
  },
  "language_info": {
   "codemirror_mode": {
    "name": "ipython",
    "version": 3
   },
   "file_extension": ".py",
   "mimetype": "text/x-python",
   "name": "python",
   "nbconvert_exporter": "python",
   "pygments_lexer": "ipython3",
   "version": "3.12.4"
  }
 },
 "nbformat": 4,
 "nbformat_minor": 5
}
