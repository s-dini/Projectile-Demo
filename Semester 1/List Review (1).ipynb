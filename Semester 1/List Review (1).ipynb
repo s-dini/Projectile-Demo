{
 "cells": [
  {
   "cell_type": "code",
   "execution_count": 7,
   "id": "83019a29-8a69-47b2-b531-e2721f05cb35",
   "metadata": {},
   "outputs": [],
   "source": [
    "# NAME: Arshea Anjum Taifa\n",
    "# PERIOD: 5"
   ]
  },
  {
   "cell_type": "code",
   "execution_count": 46,
   "id": "62cc7a3b-74a2-42e1-a8c8-4eea74de1ccc",
   "metadata": {
    "scrolled": true
   },
   "outputs": [],
   "source": [
    "#EXAMPLE#\n",
    "#Create a list for the height_in_inches column that consists of all  of the values in that column.\n",
    "\n",
    "heights = [71, 69, 70, 71, 68, 70, 70]"
   ]
  },
  {
   "cell_type": "code",
   "execution_count": 48,
   "id": "47510243-9e03-4d90-a6cb-1f3c8e7c184b",
   "metadata": {},
   "outputs": [],
   "source": [
    "# Your Turn: Create a list for the name, weight, and \n",
    "# net_worth columns.\n",
    "name = [\"Jin\", \"Suga\", \"J-Hope\", \"RM\", \"Jimin\", \"V\", \"Jungkook\"]\n",
    "weight = [136, 138, 132, 145, 143, 137, 145]\n",
    "net_worth = [8, 8, 12, 8, 8, 8, 8]"
   ]
  },
  {
   "cell_type": "code",
   "execution_count": 13,
   "id": "048dddb9-9834-4b4b-b141-dfe336f04866",
   "metadata": {},
   "outputs": [
    {
     "name": "stdout",
     "output_type": "stream",
     "text": [
      "\n",
      "Height elements are stored as <class 'int'>\n"
     ]
    }
   ],
   "source": [
    "#EXAMPLE#\n",
    "#Print the data type of the elements in the height list. \n",
    "print()\n",
    "print(\"Height elements are stored as \" + str(type(heights[0])))"
   ]
  },
  {
   "cell_type": "code",
   "execution_count": 15,
   "id": "41858254-cf39-4555-b46c-04c036e9d8c0",
   "metadata": {},
   "outputs": [
    {
     "name": "stdout",
     "output_type": "stream",
     "text": [
      "\n",
      "Name elements are stored as <class 'str'>\n",
      "\n",
      "Weight elements are stored as <class 'int'>\n",
      "\n",
      "Net Worth elements are stored as <class 'int'>\n"
     ]
    }
   ],
   "source": [
    "# Your Turn: Print the data types of the elements in the other lists. \n",
    "print()\n",
    "print(\"Name elements are stored as \" + str(type(name[0])))\n",
    "print()\n",
    "print(\"Weight elements are stored as \" + str(type(weight[0])))\n",
    "print()\n",
    "print(\"Net Worth elements are stored as \" + str(type(net_worth[0])))"
   ]
  },
  {
   "cell_type": "code",
   "execution_count": 17,
   "id": "88f43ab6-31df-4f58-8fa5-d0122a50920f",
   "metadata": {},
   "outputs": [
    {
     "name": "stdout",
     "output_type": "stream",
     "text": [
      "\n",
      "The length of the heights list is 7\n",
      "The minimum height is 68\n",
      "The maximum height is 71\n"
     ]
    },
    {
     "ename": "TypeError",
     "evalue": "'int' object is not callable",
     "output_type": "error",
     "traceback": [
      "\u001b[1;31m---------------------------------------------------------------------------\u001b[0m",
      "\u001b[1;31mTypeError\u001b[0m                                 Traceback (most recent call last)",
      "Cell \u001b[1;32mIn[17], line 7\u001b[0m\n\u001b[0;32m      5\u001b[0m \u001b[38;5;28mprint\u001b[39m(\u001b[38;5;124m\"\u001b[39m\u001b[38;5;124mThe minimum height is \u001b[39m\u001b[38;5;124m\"\u001b[39m \u001b[38;5;241m+\u001b[39m \u001b[38;5;28mstr\u001b[39m(\u001b[38;5;28mmin\u001b[39m(heights)))\n\u001b[0;32m      6\u001b[0m \u001b[38;5;28mprint\u001b[39m(\u001b[38;5;124m\"\u001b[39m\u001b[38;5;124mThe maximum height is \u001b[39m\u001b[38;5;124m\"\u001b[39m \u001b[38;5;241m+\u001b[39m \u001b[38;5;28mstr\u001b[39m(\u001b[38;5;28mmax\u001b[39m(heights)))\n\u001b[1;32m----> 7\u001b[0m \u001b[38;5;28mprint\u001b[39m(\u001b[38;5;124m\"\u001b[39m\u001b[38;5;124mThe sum of all heights is \u001b[39m\u001b[38;5;124m\"\u001b[39m \u001b[38;5;241m+\u001b[39m \u001b[38;5;28mstr\u001b[39m(\u001b[38;5;28msum\u001b[39m(heights)))\n",
      "\u001b[1;31mTypeError\u001b[0m: 'int' object is not callable"
     ]
    }
   ],
   "source": [
    "#EXAMPLE#\n",
    "#Print the length of the heights list, the max value, the min value and the sum of the heights list.\n",
    "print()\n",
    "print(\"The length of the heights list is \" + str(len(heights)))\n",
    "print(\"The minimum height is \" + str(min(heights)))\n",
    "print(\"The maximum height is \" + str(max(heights)))\n",
    "print(\"The sum of all heights is \" + str(sum(heights)))"
   ]
  },
  {
   "cell_type": "code",
   "execution_count": 19,
   "id": "7823a9df-a29b-4320-9e45-dc14f36a4b06",
   "metadata": {},
   "outputs": [
    {
     "name": "stdout",
     "output_type": "stream",
     "text": [
      "\n",
      "The length of the name list is 7\n",
      "The shortest name in the list is V\n",
      "The longest name in the list is Jungkook\n",
      "The sum of all letters in everyone's names is 29\n",
      "\n",
      "The length of the weight list is 7\n",
      "The minimum weight is 132\n",
      "The maximum weight is 145\n"
     ]
    },
    {
     "ename": "TypeError",
     "evalue": "'int' object is not callable",
     "output_type": "error",
     "traceback": [
      "\u001b[1;31m---------------------------------------------------------------------------\u001b[0m",
      "\u001b[1;31mTypeError\u001b[0m                                 Traceback (most recent call last)",
      "Cell \u001b[1;32mIn[19], line 26\u001b[0m\n\u001b[0;32m     24\u001b[0m \u001b[38;5;28mprint\u001b[39m(\u001b[38;5;124m\"\u001b[39m\u001b[38;5;124mThe minimum weight is \u001b[39m\u001b[38;5;124m\"\u001b[39m \u001b[38;5;241m+\u001b[39m \u001b[38;5;28mstr\u001b[39m(\u001b[38;5;28mmin\u001b[39m(weight)))\n\u001b[0;32m     25\u001b[0m \u001b[38;5;28mprint\u001b[39m(\u001b[38;5;124m\"\u001b[39m\u001b[38;5;124mThe maximum weight is \u001b[39m\u001b[38;5;124m\"\u001b[39m \u001b[38;5;241m+\u001b[39m \u001b[38;5;28mstr\u001b[39m(\u001b[38;5;28mmax\u001b[39m(weight)))\n\u001b[1;32m---> 26\u001b[0m \u001b[38;5;28mprint\u001b[39m(\u001b[38;5;124m\"\u001b[39m\u001b[38;5;124mThe sum of all weights is \u001b[39m\u001b[38;5;124m\"\u001b[39m \u001b[38;5;241m+\u001b[39m \u001b[38;5;28mstr\u001b[39m(\u001b[38;5;28msum\u001b[39m(weight)))\n\u001b[0;32m     28\u001b[0m \u001b[38;5;28mprint\u001b[39m()\n\u001b[0;32m     29\u001b[0m \u001b[38;5;28mprint\u001b[39m(\u001b[38;5;124m\"\u001b[39m\u001b[38;5;124mThe length of the net worth list is \u001b[39m\u001b[38;5;124m\"\u001b[39m \u001b[38;5;241m+\u001b[39m \u001b[38;5;28mstr\u001b[39m(\u001b[38;5;28mlen\u001b[39m(net_worth)))\n",
      "\u001b[1;31mTypeError\u001b[0m: 'int' object is not callable"
     ]
    }
   ],
   "source": [
    "# Your Turn: Print the length, the max value, the min value and the \n",
    "# sum of the other lists. Note: The sum function will not work on a string.\n",
    "# How do you suppose the min and max work with strings based on what\n",
    "# is printed?\n",
    "print()\n",
    "print(\"The length of the name list is \" + str(len(name)))\n",
    "min_name = \"         \"\n",
    "for x in name:\n",
    "    if (len(x) < len(min_name)):\n",
    "        min_name = x \n",
    "print(\"The shortest name in the list is \" + min_name)\n",
    "max_name = \"\"\n",
    "for y in name:\n",
    "    if (len(y) > len(max_name)):\n",
    "        max_name = y\n",
    "print(\"The longest name in the list is \" + max_name)\n",
    "count = 0\n",
    "for num in name: \n",
    "   count = count + len(num)\n",
    "print(\"The sum of all letters in everyone's names is \" + str(count))\n",
    "\n",
    "print()\n",
    "print(\"The length of the weight list is \" + str(len(weight)))\n",
    "print(\"The minimum weight is \" + str(min(weight)))\n",
    "print(\"The maximum weight is \" + str(max(weight)))\n",
    "print(\"The sum of all weights is \" + str(sum(weight)))\n",
    "\n",
    "print()\n",
    "print(\"The length of the net worth list is \" + str(len(net_worth)))\n",
    "print(\"The minimum net worth is \" + str(min(net_worth)))\n",
    "print(\"The maximum net worth is \" + str(max(net_worth)))\n",
    "print(\"The sum of all net worth is \" + str(sum(net_worth)))\n",
    "\n",
    "\n",
    "\n",
    "\n",
    "    "
   ]
  },
  {
   "cell_type": "code",
   "execution_count": 21,
   "id": "6757f4b5-75ed-417f-89b2-107d2a3ff3e8",
   "metadata": {},
   "outputs": [
    {
     "name": "stdout",
     "output_type": "stream",
     "text": [
      "\n",
      "[152, 71.8, 73.5, 52.2, 153, 124, 83.7, 158, 137, 86.6, 87.3, 56, 142, 141, 76.1, 173]\n"
     ]
    }
   ],
   "source": [
    "#EXAMPLE#\n",
    "countries = [\"Australia\", \"Egypt\", \"Greece\", \"India\", \"Jamaica\", \"Mexico\",\n",
    "\"Spain\", \"United States\"]\n",
    "sugar_1980 = [152, 71.8, 73.5 ,52.2, 153, 124, 83.7, 158]\n",
    "sugar_1990 = [137, 86.6, 87.3, 56, 142, 141, 76.1, 173]\n",
    "sugar_2000 = [123, 82.1, 90.4, 63.7, 161, 132, 81, 189]\n",
    "sugar_2010 = [126, 81.2, 77.3, 59.9, 137, 136, 83.2, 167]\n",
    "\n",
    "\"\"\"\n",
    "Add the sugar consumed in 1980 and 1990 lists. Print the result. \n",
    "What happens?\n",
    "\"\"\"\n",
    "\n",
    "print()\n",
    "print(sugar_1980 + sugar_1990)"
   ]
  },
  {
   "cell_type": "code",
   "execution_count": 23,
   "id": "3ca8680f-0e30-40da-8fb6-3ddb72d4d366",
   "metadata": {},
   "outputs": [
    {
     "name": "stdout",
     "output_type": "stream",
     "text": [
      "\n",
      "['Australia', 'Egypt', 'Greece', 'India', 'Jamaica', 'Mexico', 'Spain', 'United States', 126, 81.2, 77.3, 59.9, 137, 136, 83.2, 167]\n"
     ]
    }
   ],
   "source": [
    "# Your Turn: Add the countries and the sugar_2010 list. Print the result.\n",
    "# What happens here? -- The contents of the second list appends to the first list\n",
    "print()\n",
    "print(countries + sugar_2010)"
   ]
  },
  {
   "cell_type": "code",
   "execution_count": 25,
   "id": "0250a0f2-d15e-4abf-8165-a4760b1b8fb5",
   "metadata": {},
   "outputs": [
    {
     "name": "stdout",
     "output_type": "stream",
     "text": [
      "\n",
      "First element in sugar_1990 + first element in sugar_2000 = 260\n"
     ]
    }
   ],
   "source": [
    "#EXAMPLE#\n",
    "\"\"\"\n",
    "Add an element from the sugar_1990 list to an element \n",
    "from the sugar_2000 list. \n",
    "Print the result.\n",
    "\"\"\"\n",
    "print()\n",
    "print(\"First element in sugar_1990 + first element in sugar_2000 = \" \n",
    "+ str(sugar_1990[0] + sugar_2000[0]))"
   ]
  },
  {
   "cell_type": "code",
   "execution_count": 27,
   "id": "9fb0f8a1-6bfa-42be-8cab-a0645a257b37",
   "metadata": {},
   "outputs": [
    {
     "name": "stdout",
     "output_type": "stream",
     "text": [
      "\n",
      "First element in countries list + Second element in counties list = AustraliaEgypt\n"
     ]
    }
   ],
   "source": [
    "# Your Turn: Add the first two elements of the countries list. \n",
    "# Print the result. What happens here? -- It appends the second element of the list in front of the first element of the list\n",
    "print()\n",
    "print(\"First element in countries list + Second element in counties list = \" \n",
    "+ str(countries[0] + countries[1]))"
   ]
  },
  {
   "cell_type": "code",
   "execution_count": 29,
   "id": "cca2fa97-71c6-45c3-98a4-a6dd3871d483",
   "metadata": {},
   "outputs": [
    {
     "name": "stdout",
     "output_type": "stream",
     "text": [
      "\n",
      "True\n",
      "False\n",
      "True\n"
     ]
    }
   ],
   "source": [
    "#EXAMPLE#\n",
    "\"\"\"\n",
    "Decide whether the following expressions are true or false. \n",
    "Add the print function to the expressions to check your answers.\n",
    "\"\"\"\n",
    "\n",
    "print()\n",
    "print(sugar_1990[0] > sugar_1980[1])  # prints True\n",
    "\n",
    "# Take a guess and then add the print function to check\n",
    "# Guess: False\n",
    "print(sugar_2010[0] == sugar_2000[1])\n",
    "\n",
    "# Take a guess and then add the print function to check\n",
    "# Guess: True\n",
    "print(sugar_1980[3] < sugar_1990[5])"
   ]
  },
  {
   "cell_type": "code",
   "execution_count": 31,
   "id": "7673c186-5911-414c-b574-2e5a36db481e",
   "metadata": {},
   "outputs": [
    {
     "name": "stdout",
     "output_type": "stream",
     "text": [
      "\n",
      "False\n",
      "True\n"
     ]
    }
   ],
   "source": [
    "# Your Turn: Create and print another true expression and another false\n",
    "# expression using the elements in the lists.\n",
    "\n",
    "print()\n",
    "# Answer: False\n",
    "print(sugar_1990[3] > sugar_1980[2])\n",
    "\n",
    "# Answer: True\n",
    "print(sugar_2000[2] > sugar_1990[3])\n",
    "\n"
   ]
  },
  {
   "cell_type": "code",
   "execution_count": 33,
   "id": "4f6e8d8c-86d9-47d0-a03a-7ba969868b3c",
   "metadata": {},
   "outputs": [
    {
     "name": "stdout",
     "output_type": "stream",
     "text": [
      "\n"
     ]
    },
    {
     "data": {
      "text/plain": [
       "False"
      ]
     },
     "execution_count": 33,
     "metadata": {},
     "output_type": "execute_result"
    }
   ],
   "source": [
    "#EXAMPLE#\n",
    "\"\"\"\n",
    "Decide whether the following Boolean statements are true or false.\n",
    "Add the print function to the statements to check your answers.\n",
    "\"\"\"\n",
    "\n",
    "print()\n",
    "\n",
    "# Take a guess and then add the print function to check\n",
    "# Guess: True\n",
    "sugar_1980[3] < sugar_1990[4] or sugar_1980[3] == sugar_2010[5]\n",
    "# Take a guess and then add the print function to check\n",
    "# Guess: False\n",
    "sugar_2000[2] < sugar_2010[5] and sugar_1990[0] < sugar_2010[1]"
   ]
  },
  {
   "cell_type": "code",
   "execution_count": 35,
   "id": "e326dca0-e5ff-4d0f-9133-45b3924a787c",
   "metadata": {},
   "outputs": [
    {
     "name": "stdout",
     "output_type": "stream",
     "text": [
      "\n",
      "True\n",
      "False\n"
     ]
    }
   ],
   "source": [
    "# Your Turn: Create and print a true Boolean statement that uses 'or' \n",
    "# and a false Boolean statement that uses 'and'\n",
    "\n",
    "print()\n",
    "\n",
    "# Answer: True\n",
    "print(sugar_1990[2] < sugar_2010[5] or sugar_1980[0] == sugar_1990[1])\n",
    "# Take a guess and then add the print function to check\n",
    "# Answer: False\n",
    "print(sugar_2010[1] > sugar_2000[2] and sugar_1980[0] < sugar_1990[5])"
   ]
  },
  {
   "cell_type": "code",
   "execution_count": 37,
   "id": "2f0214c9-e669-40ca-9e9a-233b5df83c7a",
   "metadata": {},
   "outputs": [],
   "source": [
    "#EXAMPLE#\n",
    "countries = [\"Australia\", \"Egypt\", \"Greece\", \"India\", \"Jamaica\", \"Mexico\",\n",
    "\"Spain\", \"United States\"]\n",
    "sugar_1980 = [152, 71.8, 73.5 ,52.2, 153, 124, 83.7, 158]\n",
    "sugar_1990 = [137, 86.6, 87.3, 56, 142, 141, 76.1, 173]\n",
    "sugar_2000 = [123, 82.1, 90.4, 63.7, 161, 132, 81, 189]\n",
    "sugar_2010 = [126, 81.2, 77.3, 59.9, 137, 136, 83.2, 167]"
   ]
  },
  {
   "cell_type": "code",
   "execution_count": 44,
   "id": "94a7bd0e-0d18-4274-9c87-ae156d2b8080",
   "metadata": {},
   "outputs": [
    {
     "ename": "TypeError",
     "evalue": "'int' object is not callable",
     "output_type": "error",
     "traceback": [
      "\u001b[1;31m---------------------------------------------------------------------------\u001b[0m",
      "\u001b[1;31mTypeError\u001b[0m                                 Traceback (most recent call last)",
      "Cell \u001b[1;32mIn[44], line 22\u001b[0m\n\u001b[0;32m     20\u001b[0m \u001b[38;5;66;03m# average sugar consumed in 2010\u001b[39;00m\n\u001b[0;32m     21\u001b[0m \u001b[38;5;28msum\u001b[39m \u001b[38;5;241m=\u001b[39m \u001b[38;5;241m0\u001b[39m\n\u001b[1;32m---> 22\u001b[0m \u001b[38;5;28;01mfor\u001b[39;00m x \u001b[38;5;129;01min\u001b[39;00m \u001b[38;5;28mrange\u001b[39m(\u001b[38;5;241m0\u001b[39m, \u001b[38;5;28mlen\u001b[39m(sugar_2010), \u001b[38;5;241m1\u001b[39m):\n\u001b[0;32m     23\u001b[0m     \u001b[38;5;28msum\u001b[39m \u001b[38;5;241m=\u001b[39m \u001b[38;5;28msum\u001b[39m \u001b[38;5;241m+\u001b[39m sugar_2010[x]\n\u001b[0;32m     24\u001b[0m average \u001b[38;5;241m=\u001b[39m \u001b[38;5;28msum\u001b[39m\u001b[38;5;241m/\u001b[39m\u001b[38;5;28mlen\u001b[39m(sugar_2010)\n",
      "\u001b[1;31mTypeError\u001b[0m: 'int' object is not callable"
     ]
    }
   ],
   "source": [
    "'''\n",
    "To find the average, or the mean, of a set of data you would add all of the numbers and divide by the number of items in the set.\n",
    "\n",
    "To find the range of a dataset, you would subtract the smallest value from the largest value in the set.\n",
    "\n",
    "There is not a built-in function for determining the average (mean) or the range of each list. However, you are able to use the functions we’ve learned about to compute these values.\n",
    "\n",
    "Answer the following questions using the functions max(), min(), sum() and len().\n",
    "\n",
    "Compute and print the average amount of sugar consumed in 2010.\n",
    "\n",
    "Compute and print the range of the 1990 sugar consumption list.\n",
    "\n",
    "Compute and print the average amount of sugar consumed in total using all of the values in the four sugar consumption lists.\n",
    "\n",
    "Challenge: Determine the average amount of sugar consumed by the United States in the four decades shown.\n",
    "\n",
    "Extend: What do these findings tell you about sugar consumption?\n",
    "'''\n",
    "# average sugar consumed in 2010\n",
    "sum = 0\n",
    "for x in range(0, len(sugar_2010), 1):\n",
    "    sum = sum + sugar_2010[x]\n",
    "average = sum/len(sugar_2010)\n",
    "\n",
    "print (average)\n",
    "\n",
    "# range of sugar consumed in 1990\n",
    "min = sugar_1990[0]\n",
    "max = sugar_1990[0]\n",
    "for y in range (0, len(sugar_1990)-1, 1):\n",
    "    if (min > sugar_1990[y]):\n",
    "        min = sugar_1990[y]\n",
    "        \n",
    "    elif (sugar_1990[y] > max):\n",
    "        max = sugar_1990[y]\n",
    "range = max - min\n",
    "print (range)\n",
    "\n",
    "# average of sugar consumed in total for all four decades\n",
    "total = 0\n",
    "for a in range(0, len(sugar_1980), 1):\n",
    "    total = total + sugar_1980[a]\n",
    "\n",
    "for b in range(0, len(sugar_1990), 1):\n",
    "    total = total + sugar_1990[b]\n",
    "    \n",
    "for c in range(0, len(sugar_2000), 1):\n",
    "    total = total + sugar_2000[c]\n",
    "    \n",
    "for d in range(0, len(sugar_2010), 1):\n",
    "    total = total + sugar_2010[d]\n",
    "\n",
    "average = total/ (len(sugar_1980) + len(sugar_1990) + len(sugar_2000) + len(sugar_2010))\n",
    "\n",
    "print (average)\n",
    "\n",
    "# Challenge: average sugar consumed by the United States \n",
    "# over the four decades"
   ]
  },
  {
   "cell_type": "code",
   "execution_count": null,
   "id": "cfc45a0f-5880-4531-87b5-fd41998e45a8",
   "metadata": {},
   "outputs": [],
   "source": []
  }
 ],
 "metadata": {
  "kernelspec": {
   "display_name": "Python 3 (ipykernel)",
   "language": "python",
   "name": "python3"
  },
  "language_info": {
   "codemirror_mode": {
    "name": "ipython",
    "version": 3
   },
   "file_extension": ".py",
   "mimetype": "text/x-python",
   "name": "python",
   "nbconvert_exporter": "python",
   "pygments_lexer": "ipython3",
   "version": "3.12.4"
  }
 },
 "nbformat": 4,
 "nbformat_minor": 5
}
