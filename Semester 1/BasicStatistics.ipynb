{
 "cells": [
  {
   "cell_type": "markdown",
   "metadata": {},
   "source": [
    "### Basic Statistics"
   ]
  },
  {
   "cell_type": "code",
   "execution_count": 55,
   "metadata": {},
   "outputs": [],
   "source": [
    "### IMPORTS ###\n",
    "import pandas as pd\n",
    "import matplotlib.pyplot as plt"
   ]
  },
  {
   "cell_type": "code",
   "execution_count": 56,
   "metadata": {},
   "outputs": [],
   "source": [
    "### IMPORT DATAFRAME ###\n",
    "cereals = pd.read_csv (r\"cereal.csv\")\n",
    "pd.set_option(\"display.max_columns\", None)"
   ]
  },
  {
   "cell_type": "code",
   "execution_count": 57,
   "metadata": {},
   "outputs": [
    {
     "name": "stdout",
     "output_type": "stream",
     "text": [
      "                         name mfr type  calories  protein  fat  sodium  fiber  \\\n",
      "0                   100% Bran   N    C        70        4    1     130   10.0   \n",
      "1           100% Natural Bran   Q    C       120        3    5      15    2.0   \n",
      "2                    All-Bran   K    C        70        4    1     260    9.0   \n",
      "3   All-Bran with Extra Fiber   K    C        50        4    0     140   14.0   \n",
      "4              Almond Delight   R    C       110        2    2     200    1.0   \n",
      "..                        ...  ..  ...       ...      ...  ...     ...    ...   \n",
      "72                    Triples   G    C       110        2    1     250    0.0   \n",
      "73                       Trix   G    C       110        1    1     140    0.0   \n",
      "74                 Wheat Chex   R    C       100        3    1     230    3.0   \n",
      "75                   Wheaties   G    C       100        3    1     200    3.0   \n",
      "76        Wheaties Honey Gold   G    C       110        2    1     200    1.0   \n",
      "\n",
      "    carbo  sugars  potass  vitamins  shelf  weight  cups     rating  \n",
      "0     5.0       6     280        25      3     1.0  0.33  68.402973  \n",
      "1     8.0       8     135         0      3     1.0  1.00  33.983679  \n",
      "2     7.0       5     320        25      3     1.0  0.33  59.425505  \n",
      "3     8.0       0     330        25      3     1.0  0.50  93.704912  \n",
      "4    14.0       8      -1        25      3     1.0  0.75  34.384843  \n",
      "..    ...     ...     ...       ...    ...     ...   ...        ...  \n",
      "72   21.0       3      60        25      3     1.0  0.75  39.106174  \n",
      "73   13.0      12      25        25      2     1.0  1.00  27.753301  \n",
      "74   17.0       3     115        25      1     1.0  0.67  49.787445  \n",
      "75   17.0       3     110        25      1     1.0  1.00  51.592193  \n",
      "76   16.0       8      60        25      1     1.0  0.75  36.187559  \n",
      "\n",
      "[77 rows x 16 columns]\n"
     ]
    }
   ],
   "source": [
    "### PRINT DATATYPES ###\n",
    "print(cereals)"
   ]
  },
  {
   "cell_type": "code",
   "execution_count": 58,
   "metadata": {},
   "outputs": [
    {
     "name": "stdout",
     "output_type": "stream",
     "text": [
      "Varaince of Ratings: 197.3263210498702\n",
      "Standard Deviation of Ratings: 197.3263210498702\n",
      "Range of Ratings: 75.662061\n",
      "Inter Quartile Range of Ratings: 17.654298000000004\n"
     ]
    }
   ],
   "source": [
    "### FIND SIMPLE STATISTICS ###\n",
    "print(f\"Varaince of Ratings: {cereals[\"rating\"].var()}\")\n",
    "print(f\"Standard Deviation of Ratings: {cereals[\"rating\"].var()}\")\n",
    "\n",
    "rating = cereals[\"rating\"] # create a variable for the series instead of having to extract it from the datafram every time\n",
    "\n",
    "highest_rating = rating.max()\n",
    "lowest_rating = rating.min()\n",
    "print(f\"Range of Ratings: {highest_rating - lowest_rating}\")\n",
    "\n",
    "first_quartile = rating.quantile(.25)\n",
    "third_quartile = rating.quantile(.75)\n",
    "print(f\"Inter Quartile Range of Ratings: {third_quartile - first_quartile}\")"
   ]
  },
  {
   "cell_type": "markdown",
   "metadata": {},
   "source": [
    "Question: How could you find the median?\n",
    "Hint: Look at how we found the quartiles."
   ]
  },
  {
   "cell_type": "code",
   "execution_count": 59,
   "metadata": {},
   "outputs": [
    {
     "data": {
      "image/png": "[encoded data removed]",
      "text/plain": [
       "<Figure size 640x480 with 1 Axes>"
      ]
     },
     "metadata": {},
     "output_type": "display_data"
    }
   ],
   "source": [
    "### PLOTTING A BOXPLOT OF RATINGS SPREAD ###\n",
    "plt.boxplot(rating)\n",
    "plt.show()"
   ]
  },
  {
   "cell_type": "code",
   "execution_count": 60,
   "metadata": {},
   "outputs": [
    {
     "data": {
      "image/png": "[encoded data removed]",
      "text/plain": [
       "<Figure size 640x480 with 1 Axes>"
      ]
     },
     "metadata": {},
     "output_type": "display_data"
    }
   ],
   "source": [
    "### PLOTTING A HISTORGRAM OF RATINGS SPREAD ###\n",
    "plt.hist(rating)\n",
    "plt.show()"
   ]
  },
  {
   "cell_type": "markdown",
   "metadata": {},
   "source": [
    "Questions: Which graph represents the data in a better way and why? What are some issues with the current graphs? How could you fix the problems?\n",
    "Hint: Somethings are missing...\n"
   ]
  },
  {
   "cell_type": "markdown",
   "metadata": {},
   "source": [
    "### Assignment"
   ]
  },
  {
   "cell_type": "markdown",
   "metadata": {},
   "source": [
    "Use the cereal dataset to answer the following quesitons.\n",
    "    What is the median amount of potassium in cereal?\n",
    "    What are the first and third quartile values for potassium?\n",
    "    What are the minimum and maximum potassium values?\n",
    "\n",
    "Create a boxplot and a historgram of the potassium values.\n",
    "    Are there any outliers?\n",
    "    Compare and contrast the graphs. Which one do you prefer for this case?"
   ]
  }
 ],
 "metadata": {
  "kernelspec": {
   "display_name": "Python 3",
   "language": "python",
   "name": "python3"
  },
  "language_info": {
   "codemirror_mode": {
    "name": "ipython",
    "version": 3
   },
   "file_extension": ".py",
   "mimetype": "text/x-python",
   "name": "python",
   "nbconvert_exporter": "python",
   "pygments_lexer": "ipython3",
   "version": "3.12.6"
  }
 },
 "nbformat": 4,
 "nbformat_minor": 2
}
