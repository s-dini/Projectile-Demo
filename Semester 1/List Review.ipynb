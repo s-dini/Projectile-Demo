{
 "cells": [
  {
   "cell_type": "code",
   "execution_count": 36,
   "id": "62cc7a3b-74a2-42e1-a8c8-4eea74de1ccc",
   "metadata": {},
   "outputs": [],
   "source": [
    "#Create a list for the height_in_inches column that consists of all  of the values in that column.\n",
    "\n",
    "heights = [71, 69, 70, 71, 68, 70, 70]"
   ]
  },
  {
   "cell_type": "code",
   "execution_count": 37,
   "id": "47510243-9e03-4d90-a6cb-1f3c8e7c184b",
   "metadata": {},
   "outputs": [],
   "source": [
    "# Your Turn: Create a list for the name, weight, and \n",
    "# net_worth columns.\n",
    "\n",
    "names = [\"Jin\", \"Suga\", \"J-Hope\", \"RM\", \"Jimin\", \"V\", \"Jungkook\"]\n",
    "weights = [136, 138, 132, 145, 143, 137, 145]\n",
    "net_worths = [8, 8, 12, 8, 8, 8, 8]\n",
    "\n"
   ]
  },
  {
   "cell_type": "code",
   "execution_count": 38,
   "id": "048dddb9-9834-4b4b-b141-dfe336f04866",
   "metadata": {},
   "outputs": [
    {
     "name": "stdout",
     "output_type": "stream",
     "text": [
      "\n",
      "Height elements are stored as <class 'int'>\n"
     ]
    }
   ],
   "source": [
    "#Print the data type of the elements in the height list. \n",
    "print()\n",
    "print(\"Height elements are stored as \" + str(type(heights[0])))\n"
   ]
  },
  {
   "cell_type": "code",
   "execution_count": 39,
   "id": "41858254-cf39-4555-b46c-04c036e9d8c0",
   "metadata": {},
   "outputs": [
    {
     "name": "stdout",
     "output_type": "stream",
     "text": [
      "Name elements are stored as <class 'str'>\n",
      "Weight elements are stored as <class 'int'>\n",
      "Net worth elements are stored as <class 'int'>\n"
     ]
    }
   ],
   "source": [
    "# Your Turn: Print the data types of the elements in the other lists. \n",
    "print(\"Name elements are stored as \" + str(type(names[0])))\n",
    "print(\"Weight elements are stored as \" + str(type(weights[0])))\n",
    "print(\"Net worth elements are stored as \" + str(type(net_worths[0])))"
   ]
  },
  {
   "cell_type": "code",
   "execution_count": 40,
   "id": "88f43ab6-31df-4f58-8fa5-d0122a50920f",
   "metadata": {},
   "outputs": [
    {
     "name": "stdout",
     "output_type": "stream",
     "text": [
      "\n",
      "The length of the heights list is 7\n",
      "The minimum height is 68\n",
      "The maximum height is 71\n",
      "The sum of all heights is 489\n"
     ]
    }
   ],
   "source": [
    "#Print the length of the heights list, the max value, the min value and the sum of the heights list.\n",
    "\n",
    "\n",
    "print()\n",
    "print(\"The length of the heights list is \" + str(len(heights)))\n",
    "print(\"The minimum height is \" + str(min(heights)))\n",
    "print(\"The maximum height is \" + str(max(heights)))\n",
    "print(\"The sum of all heights is \" + str(sum(heights)))"
   ]
  },
  {
   "cell_type": "code",
   "execution_count": 63,
   "id": "76e028fa-02fa-4fb2-969f-152c8c51617b",
   "metadata": {},
   "outputs": [
    {
     "name": "stdout",
     "output_type": "stream",
     "text": [
      "The length of the names list is 7\n",
      "The shortest name is V\n",
      "The longest name is Jungkook\n",
      "The sum of all names is 29\n",
      "\n",
      "The length of the weights list is 7\n",
      "The minimum weight is 132\n",
      "The maximum weight is 145\n",
      "The sum of all weights is 976\n",
      "\n",
      "The length of the net worths list is 7\n",
      "The minimum net worth is 8\n",
      "The maximum net worth is 12\n",
      "The sum of all net worths is 60\n"
     ]
    }
   ],
   "source": [
    "# Your Turn: Print the length, the max value, the min value and the \n",
    "# sum of the other lists. Note: The sum function will not work on a string.\n",
    "# How do you suppose the min and max work with strings based on what\n",
    "# is printed?\n",
    "\n",
    "# names \n",
    "print(\"The length of the names list is \" + str(len(names)))\n",
    "\n",
    "min_name = \"                 \"\n",
    "for name in names:\n",
    "    if (len(name) < len(min_name)): \n",
    "        min_name = name\n",
    "    \n",
    "print(\"The shortest name is \" + min_name)\n",
    "\n",
    "max_name = \"\"\n",
    "for name in names:\n",
    "    if (len(name) > len(max_name)): \n",
    "        max_name = name\n",
    "\n",
    "print(\"The longest name is \" + max_name)\n",
    "\n",
    "total = 0\n",
    "for name in names:\n",
    "    total += len(name)\n",
    "\n",
    "print(\"The sum of all names is \" + str(total))\n",
    "\n",
    "#weights \n",
    "print(\"\")\n",
    "print(\"The length of the weights list is \" + str(len(weights)))\n",
    "print(\"The minimum weight is \" + str(min(weights)))\n",
    "print(\"The maximum weight is \" + str(max(weights)))\n",
    "print(\"The sum of all weights is \" + str(sum(weights)))\n",
    "\n",
    "#net worths \n",
    "print(\"\")\n",
    "print(\"The length of the net worths list is \" + str(len(net_worths)))\n",
    "print(\"The minimum net worth is \" + str(min(net_worths)))\n",
    "print(\"The maximum net worth is \" + str(max(net_worths)))\n",
    "print(\"The sum of all net worths is \" + str(sum(net_worths)))\n",
    "\n",
    "\n"
   ]
  },
  {
   "cell_type": "code",
   "execution_count": 59,
   "id": "6757f4b5-75ed-417f-89b2-107d2a3ff3e8",
   "metadata": {},
   "outputs": [
    {
     "name": "stdout",
     "output_type": "stream",
     "text": [
      "\n",
      "[152, 71.8, 73.5, 52.2, 153, 124, 83.7, 158, 137, 86.6, 87.3, 56, 142, 141, 76.1, 173]\n",
      "AustraliaEgyptGreeceIndiaJamaicaMexicoSpainUnited States\n"
     ]
    }
   ],
   "source": [
    "countries = [\"Australia\", \"Egypt\", \"Greece\", \"India\", \"Jamaica\", \"Mexico\",\n",
    "\"Spain\", \"United States\"]\n",
    "sugar_1980 = [152, 71.8, 73.5, 52.2, 153, 124, 83.7, 158]\n",
    "sugar_1990 = [137, 86.6, 87.3, 56, 142, 141, 76.1, 173]\n",
    "sugar_2000 = [123, 82.1, 90.4, 63.7, 161, 132, 81, 189]\n",
    "sugar_2010 = [126, 81.2, 77.3, 59.9, 137, 136, 83.2, 167]\n",
    "\n",
    "\"\"\"\n",
    "Add the sugar consumed in 1980 and 1990 lists. Print the result. \n",
    "What happens?\n",
    "\"\"\"\n",
    "\n",
    "print()\n",
    "print(sugar_1980 + sugar_1990)\n",
    "\n"
   ]
  },
  {
   "cell_type": "code",
   "execution_count": 60,
   "id": "3ca8680f-0e30-40da-8fb6-3ddb72d4d366",
   "metadata": {},
   "outputs": [
    {
     "name": "stdout",
     "output_type": "stream",
     "text": [
      "['Australia', 'Egypt', 'Greece', 'India', 'Jamaica', 'Mexico', 'Spain', 'United States', 126, 81.2, 77.3, 59.9, 137, 136, 83.2, 167]\n"
     ]
    }
   ],
   "source": [
    "# Your Turn: Add the countries and the sugar_2010 list. Print the result.\n",
    "# What happens here?\n",
    "\n",
    "print(countries + sugar_2010)\n",
    "# Appends sugar_2010 list to countries list \n",
    "\n"
   ]
  },
  {
   "cell_type": "code",
   "execution_count": 44,
   "id": "0250a0f2-d15e-4abf-8165-a4760b1b8fb5",
   "metadata": {},
   "outputs": [
    {
     "name": "stdout",
     "output_type": "stream",
     "text": [
      "\n",
      "First element in sugar_1990 + first element in sugar_2000 = 260\n"
     ]
    }
   ],
   "source": [
    "\"\"\"\n",
    "Add an element from the sugar_1990 list to an element \n",
    "from the sugar_2000 list. \n",
    "Print the result.\n",
    "\"\"\"\n",
    "print()\n",
    "print(\"First element in sugar_1990 + first element in sugar_2000 = \" \n",
    "+ str(sugar_1990[0] + sugar_2000[0]))"
   ]
  },
  {
   "cell_type": "code",
   "execution_count": 64,
   "id": "9fb0f8a1-6bfa-42be-8cab-a0645a257b37",
   "metadata": {},
   "outputs": [
    {
     "name": "stdout",
     "output_type": "stream",
     "text": [
      "First two elements of the countries list = AustraliaEgypt\n"
     ]
    }
   ],
   "source": [
    "# Your Turn: Add the first two elements of the countries list. \n",
    "# Print the result. What happens here?\n",
    "\n",
    "print(\"First two elements of the countries list = \" \n",
    "+ str(countries[0] + countries[1]))\n"
   ]
  },
  {
   "cell_type": "code",
   "execution_count": 66,
   "id": "cca2fa97-71c6-45c3-98a4-a6dd3871d483",
   "metadata": {},
   "outputs": [
    {
     "name": "stdout",
     "output_type": "stream",
     "text": [
      "\n",
      "True\n",
      "False\n",
      "True\n"
     ]
    }
   ],
   "source": [
    "\"\"\"\n",
    "Decide whether the following expressions are true or false. \n",
    "Add the print function to the expressions to check your answers.\n",
    "\"\"\"\n",
    "\n",
    "print()\n",
    "print(sugar_1990[0] > sugar_1980[1])  # prints True\n",
    "\n",
    "# Take a guess and then add the print function to check\n",
    "# Guess:\n",
    "print( sugar_2010[0] == sugar_2000[1] ) # false \n",
    "\n",
    "# Take a guess and then add the print function to check\n",
    "# Guess:\n",
    "print( sugar_1980[3] < sugar_1990[5]  ) # false \n"
   ]
  },
  {
   "cell_type": "code",
   "execution_count": 47,
   "id": "7673c186-5911-414c-b574-2e5a36db481e",
   "metadata": {},
   "outputs": [],
   "source": [
    "# Your Turn: Create and print another true expression and another false\n",
    "# expression using the elements in the lists.\n",
    "\n",
    "print( )"
   ]
  },
  {
   "cell_type": "code",
   "execution_count": 67,
   "id": "4f6e8d8c-86d9-47d0-a03a-7ba969868b3c",
   "metadata": {},
   "outputs": [
    {
     "name": "stdout",
     "output_type": "stream",
     "text": [
      "\n",
      "True\n",
      "False\n"
     ]
    }
   ],
   "source": [
    "\"\"\"\n",
    "Decide whether the following Boolean statements are true or false.\n",
    "Add the print function to the statements to check your answers.\n",
    "\"\"\"\n",
    "\n",
    "print()\n",
    "\n",
    "# Take a guess and then add the print function to check\n",
    "# Guess:\n",
    "print(sugar_1980[3] < sugar_1990[4] or sugar_1980[3] == sugar_2010[5]) # true \n",
    "\n",
    "# Take a guess and then add the print function to check\n",
    "# Guess:\n",
    "print( sugar_2000[2] < sugar_2010[5] and sugar_1990[0] < sugar_2010[1]) # false"
   ]
  },
  {
   "cell_type": "code",
   "execution_count": 49,
   "id": "e326dca0-e5ff-4d0f-9133-45b3924a787c",
   "metadata": {},
   "outputs": [],
   "source": [
    "# Your Turn: Create and print a true Boolean statement that uses 'or' \n",
    "# and a false Boolean statement that uses 'and'"
   ]
  },
  {
   "cell_type": "code",
   "execution_count": 50,
   "id": "2f0214c9-e669-40ca-9e9a-233b5df83c7a",
   "metadata": {},
   "outputs": [],
   "source": [
    "countries = [\"Australia\", \"Egypt\", \"Greece\", \"India\", \"Jamaica\", \"Mexico\",\n",
    "\"Spain\", \"United States\"]\n",
    "sugar_1980 = [152, 71.8, 73.5 ,52.2, 153, 124, 83.7, 158]\n",
    "sugar_1990 = [137, 86.6, 87.3, 56, 142, 141, 76.1, 173]\n",
    "sugar_2000 = [123, 82.1, 90.4, 63.7, 161, 132, 81, 189]\n",
    "sugar_2010 = [126, 81.2, 77.3, 59.9, 137, 136, 83.2, 167]"
   ]
  },
  {
   "cell_type": "code",
   "execution_count": 51,
   "id": "94a7bd0e-0d18-4274-9c87-ae156d2b8080",
   "metadata": {},
   "outputs": [
    {
     "data": {
      "text/plain": [
       "'\\nTo find the average, or the mean, of a set of data you would add all of the numbers and divide by the number of items in the set.\\n\\nTo find the range of a dataset, you would subtract the smallest value from the largest value in the set.\\n\\nThere is not a built-in function for determining the average (mean) or the range of each list. However, you are able to use the functions we’ve learned about to compute these values.\\n\\nAnswer the following questions using the functions max(), min(), sum() and len().\\n\\nCompute and print the average amount of sugar consumed in 2010.\\n\\nCompute and print the range of the 1990 sugar consumption list.\\n\\nCompute and print the average amount of sugar consumed in total using all of the values in the four sugar consumption lists.\\n\\nChallenge: Determine the average amount of sugar consumed by the United States in the four decades shown.\\n\\nExtend: What do these findings tell you about sugar consumption?\\n'"
      ]
     },
     "execution_count": 51,
     "metadata": {},
     "output_type": "execute_result"
    }
   ],
   "source": [
    "'''\n",
    "To find the average, or the mean, of a set of data you would add all of the numbers and divide by the number of items in the set.\n",
    "\n",
    "To find the range of a dataset, you would subtract the smallest value from the largest value in the set.\n",
    "\n",
    "There is not a built-in function for determining the average (mean) or the range of each list. However, you are able to use the functions we’ve learned about to compute these values.\n",
    "\n",
    "Answer the following questions using the functions max(), min(), sum() and len().\n",
    "\n",
    "Compute and print the average amount of sugar consumed in 2010.\n",
    "\n",
    "\n",
    "Compute and print the range of the 1990 sugar consumption list.\n",
    "\n",
    "Compute and print the average amount of sugar consumed in total using all of the values in the four sugar consumption lists.\n",
    "\n",
    "Challenge: Determine the average amount of sugar consumed by the United States in the four decades shown.\n",
    "\n",
    "Extend: What do these findings tell you about sugar consumption?\n",
    "'''\n",
    "# average sugar consumed in 2010\n",
    "\n",
    "print( str( sum(sugar_2010) / len(sugar_2010 )))\n",
    "\n",
    "\n",
    "# range of sugar consumed in 1990\n",
    "\n",
    "print( max(sugar_1990) - min(sugar_1990) )\n",
    "\n",
    "\n",
    "# average of sugar consumed in total for all four decades\n",
    "\n",
    "\n",
    "# Challenge: average sugar consumed by the United States \n",
    "# over the four decades"
   ]
  }
 ],
 "metadata": {
  "kernelspec": {
   "display_name": "Python 3 (ipykernel)",
   "language": "python",
   "name": "python3"
  },
  "language_info": {
   "codemirror_mode": {
    "name": "ipython",
    "version": 3
   },
   "file_extension": ".py",
   "mimetype": "text/x-python",
   "name": "python",
   "nbconvert_exporter": "python",
   "pygments_lexer": "ipython3",
   "version": "3.12.5"
  }
 },
 "nbformat": 4,
 "nbformat_minor": 5
}
